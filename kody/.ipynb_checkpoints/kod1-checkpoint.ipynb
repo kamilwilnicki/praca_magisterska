{
 "cells": [
  {
   "cell_type": "code",
   "execution_count": null,
   "metadata": {
    "id": "t8sYm208EtFN"
   },
   "outputs": [],
   "source": [
    "#sciagniecie wszystkich potrzebnych bibliotek\n",
    "from scipy.io import loadmat\n",
    "import pandas as pd\n",
    "from PIL import Image\n",
    "import matplotlib.pyplot as plt\n",
    "import numpy as np\n",
    "import tensorflow as tf\n",
    "import os\n",
    "import cv2\n",
    "from sklearn.model_selection import train_test_split\n",
    "import random\n",
    "from keras.callbacks import EarlyStopping\n",
    "from tensorflow.keras.layers import Conv2D, MaxPooling2D, Flatten, Dense, Dropout\n",
    "import pickle"
   ]
  },
  {
   "cell_type": "markdown",
   "metadata": {},
   "source": [
    "# 1. Poprawna ekstrakcja danych z plikow oraz ich wstepna analiza"
   ]
  },
  {
   "cell_type": "code",
   "execution_count": null,
   "metadata": {
    "colab": {
     "base_uri": "https://localhost:8080/"
    },
    "id": "VghKGhCC90go",
    "outputId": "d90c576b-a965-45db-f2e6-60977849f5e8"
   },
   "outputs": [],
   "source": [
    "#sciagniecie danych z google drive\n",
    "from google.colab import drive\n",
    "drive.mount('/content/gdrive')\n",
    "\n",
    "!unzip \"/content/gdrive/MyDrive/Colab Notebooks/car_ims.zip\" -d \"/content\""
   ]
  },
  {
   "cell_type": "code",
   "execution_count": null,
   "metadata": {
    "colab": {
     "base_uri": "https://localhost:8080/"
    },
    "id": "frK9M3goOM_P",
    "outputId": "2b58f1fc-8bb5-484a-8823-539894f95af3"
   },
   "outputs": [],
   "source": [
    "#budowa funkcji, ktorej celem jest prawidlowe sciagniecie pliku zawierajacego \n",
    "#etykiety zbioru wykorzystanego do analizy \n",
    "def read_mat_to_df(file_path):\n",
    "    np_array= loadmat(file_path, matlab_compatible=False, simplify_cells=True, chars_as_strings=True)\n",
    "    df= pd.DataFrame(np_array['annotations'])\n",
    "    if 'class_names' in np_array:\n",
    "        class_names= list(np_array['class_names'])\n",
    "        df['class_name']= df['class'].map(dict(enumerate(class_names, start=1)))\n",
    "    # squeeze int-types\n",
    "    for c, t in df.dtypes.items():\n",
    "        if t.kind == 'i':\n",
    "            df[c]= df[c].astype('int16')\n",
    "    if 'fname' in df.columns:\n",
    "        df['relative_im_path']= 'car_ims/0' + df['fname']\n",
    "        df.drop(columns=['fname'], inplace=True)\n",
    "    return df\n",
    "\n",
    "cars_full= read_mat_to_df('gdrive/MyDrive/cars_annos.mat')\n",
    "class_class_name_count=cars_full[['class','class_name']].value_counts().reset_index()\n",
    "class_to_name_dict=dict(zip(class_class_name_count['class'], class_class_name_count.class_name))"
   ]
  },
  {
   "cell_type": "code",
   "execution_count": null,
   "metadata": {
    "id": "9wjGb0gvOL2t"
   },
   "outputs": [],
   "source": [
    "#utworzenie kolumny w tabeli z etykietami, ktora bedzie wykorzystana do analizy jako zmienna objasniana\n",
    "cars_full['brand']=[class_name.split()[0] for class_name in cars_full['class_name'].tolist()]\n",
    "map_brand=cars_full['brand'].value_counts().reset_index()\n",
    "map_brand['class']=[x for x in range(1,len(map_brand)+1)]\n",
    "class_to_brand_dict=dict(zip(map_brand['brand'], map_brand['class']))\n",
    "brand_to_class_dict=dict(zip(map_brand['class'], map_brand['brand']))\n",
    "cars_full['class']=cars_full['brand'].map(class_to_brand_dict)"
   ]
  },
  {
   "cell_type": "code",
   "execution_count": null,
   "metadata": {
    "id": "7h8fR6RpOSF0"
   },
   "outputs": [],
   "source": [
    "# zbudowanie funkcji, ktorej celem bedzie ekstrakcja danych. Funkcja ta posiada wiele argumentow, ktore\n",
    "# umozliwiaja uzytkownikowi modyfikacje obserwacji\n",
    "# cropped - przycinanie zdjecia aby wynikiem byl wylacznie samochod\n",
    "# white_black - wybranie wymiarow zdjecia, czarne==True, biale==False\n",
    "# sub_sample - wybranie ilosci zdjec poddanych ekstracji i pre-processingu\n",
    "# image_dim_change - bool parametr, ktory uzytkownik moze uzyc w sytuacji checi zmienienia wymiarow zdjecia\n",
    "# image_dim_change_val - parametr, ktory oznajmia jakie wymiary zdjecie powinno posiadac\n",
    "# final_data - zastosowanie wyrownania histogramy oraz podzielenia wektoru ze zdjeciem przez 255 w sytuacji, gdy \n",
    "# parametr bedzie rownal sie z True\n",
    "# wynikiem funkcji sa zdjecia oraz ich wymiary\n",
    "def loop_for_car_images(df,white_black=True,sub_sample=None,\n",
    "                        cropped=True, image_dim_change=False,\n",
    "                        image_dim_change_val=[100,100],final_data=False):\n",
    "    if sub_sample==None:\n",
    "        sub_sample=len(df)\n",
    "    df1=df.copy()[0:sub_sample]\n",
    "    images=[]\n",
    "    i=0\n",
    "    images_dim=[]\n",
    "    for index,row in df1.iterrows():\n",
    "        i+=1\n",
    "        path=os.path.join(df['relative_im_path'][index])\n",
    "        image = Image.open(path)\n",
    "        if len(np.array(image).shape)==3 and white_black==True:\n",
    "            image=image.convert('L')\n",
    "        image_array=np.array(image)\n",
    "        if len(image_array.shape)<3 and white_black==False:\n",
    "            image_array=cv2.merge((image_array,image_array,image_array))\n",
    "        if cropped:\n",
    "            image_array=image_array[row['bbox_y1']:row['bbox_y2'],row['bbox_x1']:row['bbox_x2']]\n",
    "        if image_dim_change:\n",
    "            image_array=cv2.resize(image_array,(image_dim_change_val[0],image_dim_change_val[1]))\n",
    "        if final_data:\n",
    "            image_array = cv2.equalizeHist(image_array[:,:])\n",
    "            image_array=image_array.reshape(image_dim_change_val[0],image_dim_change_val[1], 1)\n",
    "            image_array=image_array/255\n",
    "\n",
    "        images.append(image_array)\n",
    "        images_dim.append(image_array.shape)\n",
    "        if i%1000==0:\n",
    "            print(f'{i} photos have been uploaded')\n",
    "    return images, images_dim"
   ]
  },
  {
   "cell_type": "code",
   "execution_count": null,
   "metadata": {
    "colab": {
     "base_uri": "https://localhost:8080/"
    },
    "id": "l0r2oazJT3W4",
    "outputId": "ffc4c047-c98d-453a-f358-4641c4af4ac2"
   },
   "outputs": [],
   "source": [
    "#sciaganie danych oraz ich wymiarow\n",
    "images,images_dim=loop_for_car_images(cars_full,white_black=True)"
   ]
  },
  {
   "cell_type": "code",
   "execution_count": null,
   "metadata": {
    "colab": {
     "base_uri": "https://localhost:8080/",
     "height": 1000
    },
    "id": "L6M1ROFgOSth",
    "outputId": "82c9a3f3-63fd-4da9-dc37-3a07ca8e53a8",
    "scrolled": false
   },
   "outputs": [],
   "source": [
    "# wstępna analiza wyników warstwy splotowej\n",
    "image = Image.open(\"car_ims/000354.jpg\")\n",
    "plt.imshow(image)\n",
    "plt.show()\n",
    "\n",
    "image_array=np.array(image)/255\n",
    "image_array2=image_array.copy()\n",
    "images_con=np.array([image_array,image_array2])\n",
    "\n",
    "\n",
    "filters=np.full((15,15,3,2),-20)\n",
    "filters[:,6:9,:,0]=500 # LINIA PIONOWA\n",
    "filters[6:9,:,:,1]=500 #LINIA POZIOMA\n",
    "\n",
    "output= tf.nn.conv2d(images_con, filters, strides=1, padding='SAME')\n",
    "\n",
    "plt.imshow(output[0,:,:,0],cmap='gray')\n",
    "plt.show()\n",
    "\n",
    "plt.imshow(output[0,:,:,1],cmap='gray')\n",
    "plt.show()\n",
    "\n",
    "# wstępna analiza wyników warstwy laczacej\n",
    "image = Image.open(\"car_ims/000001.jpg\")\n",
    "plt.figure(figsize=(15,10))\n",
    "plt.imshow(image)\n",
    "plt.show()\n",
    "image=np.array(image)/255\n",
    "\n",
    "# tworzenie wyników warstwy łączącej max pooling oraz average pooling \n",
    "output_max=tf.nn.max_pool(image,ksize=10, strides=2,padding='VALID')\n",
    "output_avg=tf.nn.avg_pool(image,ksize=10, strides=2,padding='VALID')\n",
    "\n",
    "# max pooling\n",
    "plt.figure(figsize=(15,10))\n",
    "plt.imshow(output_max[:,:,0],cmap='gray')\n",
    "plt.show()\n",
    "#average pooling\n",
    "plt.figure(figsize=(15,10))\n",
    "plt.imshow(output_avg[:,:,0],cmap='gray')\n",
    "plt.show()\n",
    "\n",
    "del output_max\n",
    "del output_avg\n",
    "del image\n",
    "del output\n",
    "del filters"
   ]
  },
  {
   "cell_type": "code",
   "execution_count": null,
   "metadata": {
    "colab": {
     "base_uri": "https://localhost:8080/",
     "height": 982
    },
    "id": "3FnXh2frOS0V",
    "outputId": "be55e5e3-2021-4502-fcae-87f68460b2e4"
   },
   "outputs": [],
   "source": [
    "#utworzenie rysunku przedstawiajacego losowo wybrane samochody ze zbioru\n",
    "images_20=[]\n",
    "which_images=[]\n",
    "for i in range(0,20):\n",
    "    which_image=['0','0']+[str(random.randint(0, 9)) for x in range(0,4)]\n",
    "    which_image=''.join(which_image)\n",
    "    image=Image.open(f\"{os.getcwd()}/data_and_labels/car_ims/{which_image}.jpg\")\n",
    "    images_20.append(image)\n",
    "    which_images.append(which_image)\n",
    "\n",
    "fig,axs=plt.subplots(4,4,figsize=(15,12))\n",
    "i=0\n",
    "for x1 in range(0,4):\n",
    "    for x2 in range(0,4):\n",
    "        axs[x1,x2].imshow(images_20[i])\n",
    "        i+=1\n",
    "        \n",
    "plt.show()\n",
    "del x1, x2, images_20, which_images, image, i"
   ]
  },
  {
   "cell_type": "code",
   "execution_count": null,
   "metadata": {
    "colab": {
     "base_uri": "https://localhost:8080/",
     "height": 816
    },
    "id": "yZR7fUuXOS4E",
    "outputId": "1b274abb-e50a-4545-dd0b-f8566b7a6af4"
   },
   "outputs": [],
   "source": [
    "# utworzenie wykresu, ktore celem bedzie ukazanie liczebnosci poszczegolnych klas\n",
    "class_count=cars_full[['class','brand']].value_counts().reset_index().sort_values(\"class\", ascending=False)\n",
    "class_car=cars_full[['class','brand']].value_counts().reset_index()\n",
    "\n",
    "plt.figure(figsize=(25,12))\n",
    "plt.bar(class_count['brand'],class_count[0])\n",
    "plt.xticks(rotation=90,ha='center',fontsize=20)\n",
    "plt.show()\n",
    "\n",
    "del class_count\n",
    "\n",
    "max_class=class_car[class_car[0]==max(class_car[0])].reset_index()\n",
    "min_class=class_car[class_car[0]==min(class_car[0])].reset_index()\n",
    "print(f'maksymalna ilość zdjęć przypisana dla poszczególnej klasy samochodu {max_class.brand[0]} to: {int(max_class[0])}')\n",
    "print(f'minimalna ilość zdjęć przypisana dla poszczególnej klasy samochodu {min_class.brand[0]} to: {int(min_class[0])}')\n",
    "del max_class, min_class, class_car"
   ]
  },
  {
   "cell_type": "markdown",
   "metadata": {},
   "source": [
    "# 3. Preprocessing"
   ]
  },
  {
   "cell_type": "code",
   "execution_count": null,
   "metadata": {
    "colab": {
     "base_uri": "https://localhost:8080/",
     "height": 809
    },
    "id": "rPamBej6OS9W",
    "outputId": "d949f89c-4ccf-4e5d-eb3d-9dd8305e5b2a"
   },
   "outputs": [],
   "source": [
    "# utworzenie wykresow, ktore ukazywac beda wyniki zastosowania przyciecia oraz\n",
    "# zmienienia kolorow na czarno biale\n",
    "images_black,_=loop_for_car_images(cars_full[0:151],white_black=True)\n",
    "images_color,_=loop_for_car_images(cars_full[0:151],white_black=False,cropped=False)\n",
    "\n",
    "\n",
    "images_pre1=[images_black[0],images_color[0],images_black[149],images_color[149]]\n",
    "\n",
    "fig,axs=plt.subplots(2,2,figsize=(12,10))\n",
    "axs[0,1].imshow(images_pre1[0],cmap='gray')\n",
    "axs[0,1].title.set_text('czarno-białe zdjęcie po przycięciu')\n",
    "axs[0,0].imshow(images_pre1[1])\n",
    "axs[0,0].title.set_text('zdjęcie przed zmianami')\n",
    "axs[1,1].imshow(images_pre1[2],cmap='gray')\n",
    "axs[1,1].title.set_text('czarno-białe zdjęcie po przycięciu')\n",
    "axs[1,0].imshow(images_pre1[3])\n",
    "axs[1,0].title.set_text('zdjęcie przed zmianami')\n",
    "\n",
    "plt.show()\n",
    "\n",
    "del images_black, images_color, _, images_pre1, fig, axs"
   ]
  },
  {
   "cell_type": "code",
   "execution_count": null,
   "metadata": {
    "colab": {
     "base_uri": "https://localhost:8080/",
     "height": 853
    },
    "id": "zJMhNvXHOTA-",
    "outputId": "5bc9b216-c32d-4e36-f4bc-f4f1076ead93"
   },
   "outputs": [],
   "source": [
    "# ukazanie wynikow zastosowania metody wyrownania histogramu zdjecia\n",
    "images1=cv2.equalizeHist(images[12341][:,:])\n",
    "\n",
    "fig,axs=plt.subplots(2,2,figsize=(15,10))\n",
    "axs[0,0].imshow(images[12341],cmap='gray')\n",
    "axs[0,0].title.set_text('Orginalne zdjęcie')\n",
    "hist,_=np.histogram(images[12341].flatten(), 256, [0, 256])\n",
    "axs[0,1].plot(hist, color='r')\n",
    "axs[0,1].set_xlim([0, 256])\n",
    "axs[0,1].set_ylim([0, 5000])\n",
    "axs[0,1].title.set_text('histogram orginalnego zdjęcia')\n",
    "axs[1,0].imshow(images1,cmap='gray')\n",
    "axs[1,0].title.set_text('Zdjęcie po wyrównaniu histogramu')\n",
    "hist,_=np.histogram(images1.flatten(), 256, [0, 256])\n",
    "axs[1,1].plot(hist, color='r')\n",
    "axs[1,1].set_xlim([0, 256])\n",
    "axs[1,1].set_ylim([0, 5000])\n",
    "axs[1,1].title.set_text('Wyrównany histogram')"
   ]
  },
  {
   "cell_type": "code",
   "execution_count": null,
   "metadata": {
    "colab": {
     "base_uri": "https://localhost:8080/",
     "height": 595
    },
    "id": "R7uuCLYraPf5",
    "outputId": "4d67bfea-1cb8-42cd-9edc-6cb71c641930"
   },
   "outputs": [],
   "source": [
    "#przedstawienie wykresow ukazujacych wymiary wszystkich zdjec\n",
    "df_dim=pd.DataFrame(images_dim,columns=['height','width'])\n",
    "fig,axs=plt.subplots(1,2,figsize=(20,8))\n",
    "axs[0].hist(df_dim['height'],bins=200,edgecolor='k',alpha=0.5)\n",
    "axs[0].axvline(df_dim['height'].mean(), color='r', linestyle='dashed', linewidth=2)\n",
    "axs[0].axvline(statistics.mode(df_dim['height']), color='b', linestyle='dashed', linewidth=2)\n",
    "axs[0].set_title('Wysokość',fontsize=15)\n",
    "axs[1].hist(df_dim['width'],bins=200,edgecolor='k',alpha=0.5)\n",
    "axs[1].axvline(df_dim['width'].mean(), color='r', linestyle='dashed', linewidth=2)\n",
    "axs[1].axvline(statistics.mode(df_dim['width']), color='b', linestyle='dashed', linewidth=2)\n",
    "axs[1].set_title('Szerokość',fontsize=15)\n",
    "\n",
    "#del images_dim, images, _, image_array, image_array2, images1"
   ]
  },
  {
   "cell_type": "code",
   "execution_count": null,
   "metadata": {
    "colab": {
     "base_uri": "https://localhost:8080/"
    },
    "id": "wiFzbCXPOTE8",
    "outputId": "02481cf8-235b-4ed9-97f8-f81a27bc0466"
   },
   "outputs": [],
   "source": [
    "# sciagniecie danych na ktorych zastosowano  wyrownanie histogramu, zmiany kolorow na czarno-biale, przyciecia\n",
    "# oraz zmiany ich wymiarow\n",
    "# mean_width=round(df_dim['width'].mean())\n",
    "# mean_height=round(df_dim['height'].mean())\n",
    "# print(df_dim['width'].mean(),df_dim['height'].mean())\n",
    "# del df_dim\n",
    "images,_=loop_for_car_images(cars_full,white_black=True,image_dim_change=True,\n",
    "                              image_dim_change_val=[200,200],final_data=True)\n"
   ]
  },
  {
   "cell_type": "code",
   "execution_count": null,
   "metadata": {
    "id": "8mgSK-OhOkMj"
   },
   "outputs": [],
   "source": [
    "# podzial danych na zbior treningowy, walidacyjny oraz testowy\n",
    "X=images\n",
    "y=cars_full['class']\n",
    "X_train, X_test, y_train, y_test = train_test_split(X, y, test_size = 0.2,random_state=5,stratify=y)\n",
    "X_val, X_test, y_val, y_test =train_test_split(X_test, y_test, test_size = 0.5,random_state=20,stratify=y_test)\n",
    "del images, _, X, y"
   ]
  },
  {
   "cell_type": "code",
   "execution_count": null,
   "metadata": {
    "colab": {
     "base_uri": "https://localhost:8080/",
     "height": 1000
    },
    "id": "TL4mPoLUOkU3",
    "outputId": "0bb34c7a-a606-4156-a48b-90f9eed6d891",
    "scrolled": false
   },
   "outputs": [],
   "source": [
    "# utworzenie wykresu ukazujacego liczebnosc poszczegolnych klas dla zbioru treningowego, walidacyjnego\n",
    "# oraz testowego\n",
    "y_train_list=[]\n",
    "for y_train_ob in y_train:\n",
    "    brand_car=brand_to_class_dict[y_train_ob]\n",
    "    y_train_list.append(brand_car)\n",
    "y_val_list=[]\n",
    "for y_val_ob in y_val:\n",
    "    brand_car=brand_to_class_dict[y_val_ob]\n",
    "    y_val_list.append(brand_car)\n",
    "y_test_list=[]\n",
    "for y_test_ob in y_test:\n",
    "    brand_car=brand_to_class_dict[y_test_ob]\n",
    "    y_test_list.append(brand_car)\n",
    "\n",
    "plt.figure(figsize=(20,10))\n",
    "plt.hist([y_test_list,y_val_list,y_train_list], 49,edgecolor='k', histtype='bar')\n",
    "plt.xticks(rotation=90,ha='center')\n",
    "plt.legend(['testowy','walidacyjny','treningowy'])\n",
    "plt.show()\n",
    "#del y_test_list, y_val_list, y_train_list"
   ]
  },
  {
   "cell_type": "code",
   "execution_count": null,
   "metadata": {
    "id": "aUxBClCcOkX4"
   },
   "outputs": [],
   "source": [
    "# utworzenie funkcji, ktora stosowac bedzie na danych metode data augmentation\n",
    "augmentation = tf.keras.Sequential([\n",
    "  tf.keras.layers.RandomFlip(\"horizontal_and_vertical\"),\n",
    "  tf.keras.layers.RandomRotation(0.2,fill_mode='constant',seed=1),\n",
    "])\n",
    "def data_aug(X,y,how_much_total,show=False):\n",
    "    data_val_count=y.value_counts().reset_index()\n",
    "    low_cat=data_val_count[data_val_count['class']<how_much_total]\n",
    "    low_cat.columns=['class','count']\n",
    "    images_aug=list(X.copy())\n",
    "    labels_aug=list(y.copy())\n",
    "    df_y=pd.DataFrame(y).reset_index()\n",
    "    df_y.columns=['previous index','y']\n",
    "    for _,low_cat_row in low_cat.iterrows():\n",
    "        how_much_aug=how_much_total-low_cat_row['count']\n",
    "        df_temp=df_y[df_y['y']==low_cat_row['class']]\n",
    "        i=0\n",
    "        show1=False\n",
    "        if show==True:\n",
    "            show1=True\n",
    "        while i<how_much_aug:\n",
    "            for index,row in df_temp.iterrows():\n",
    "                image_to_aug=X[index].copy()\n",
    "                aug_image=augmentation(image_to_aug)\n",
    "                if show1:\n",
    "                    print(class_to_name_dict.get(low_cat_row['class']))\n",
    "                    plt.figure(figsize=(15,10))\n",
    "                    plt.imshow(image_to_aug)\n",
    "                    plt.show()\n",
    "                    plt.figure(figsize=(15,10))\n",
    "                    plt.imshow(aug_image)\n",
    "                    plt.show()\n",
    "                    show1=False\n",
    "                images_aug.append(aug_image)\n",
    "                labels_aug.append(low_cat_row['class'])\n",
    "                i+=1\n",
    "                if i>=how_much_aug:\n",
    "                    break\n",
    "    print('Done!')\n",
    "    return images_aug, labels_aug"
   ]
  },
  {
   "cell_type": "code",
   "execution_count": null,
   "metadata": {
    "colab": {
     "base_uri": "https://localhost:8080/"
    },
    "id": "L5X17VoNOkdt",
    "outputId": "bc8ab4f5-0e29-4f52-e6e6-979bdb18a701"
   },
   "outputs": [],
   "source": [
    "# zastosowanie data augmentation na danych treningowych\n",
    "X_train, y_train=data_aug(X_train,y_train,how_much_total=250,show=False)"
   ]
  },
  {
   "cell_type": "code",
   "execution_count": null,
   "metadata": {
    "id": "nVQXyFqtOkgX"
   },
   "outputs": [],
   "source": [
    "# zmienienie klasy danych aby mogly byc uzyte do budowy modeli splotowych sieci neuronowych\n",
    "X_train=np.array(X_train)\n",
    "X_val=np.array(X_val)\n",
    "X_test=np.array(X_test)\n",
    "y_train=np.array(y_train)\n",
    "y_val=np.array(y_val)\n",
    "y_test=np.array(y_test)\n",
    "\n",
    "y_train=tf.keras.utils.to_categorical(y_train)\n",
    "y_val=tf.keras.utils.to_categorical(y_val)\n",
    "y_test=tf.keras.utils.to_categorical(y_test)"
   ]
  },
  {
   "cell_type": "code",
   "execution_count": null,
   "metadata": {
    "id": "VPSqr5VU5f-R"
   },
   "outputs": [],
   "source": [
    "# zapisanie danych w formie pickle\n",
    "import pickle\n",
    "pick_insert = open('gdrive/My Drive/X_train.pkl','wb')\n",
    "pickle.dump(X_train, pick_insert)\n",
    "pick_insert.close()\n",
    "pick_insert = open('gdrive/My Drive/X_val.pkl','wb')\n",
    "pickle.dump(X_val, pick_insert)\n",
    "pick_insert.close()\n",
    "pick_insert = open('gdrive/My Drive/X_test.pkl','wb')\n",
    "pickle.dump(X_test, pick_insert)\n",
    "pick_insert.close()\n",
    "pick_insert = open('gdrive/My Drive/y_train.pkl','wb')\n",
    "pickle.dump(y_train, pick_insert)\n",
    "pick_insert.close()\n",
    "pick_insert = open('gdrive/My Drive/y_val.pkl','wb')\n",
    "pickle.dump(y_val, pick_insert)\n",
    "pick_insert.close()\n",
    "pick_insert = open('gdrive/My Drive/y_test.pkl','wb')\n",
    "pickle.dump(y_test, pick_insert)\n",
    "pick_insert.close()"
   ]
  }
 ],
 "metadata": {
  "accelerator": "GPU",
  "colab": {
   "gpuType": "A100",
   "history_visible": true,
   "machine_shape": "hm",
   "provenance": []
  },
  "gpuClass": "standard",
  "kernelspec": {
   "display_name": "Python 3",
   "language": "python",
   "name": "python3"
  },
  "language_info": {
   "codemirror_mode": {
    "name": "ipython",
    "version": 3
   },
   "file_extension": ".py",
   "mimetype": "text/x-python",
   "name": "python",
   "nbconvert_exporter": "python",
   "pygments_lexer": "ipython3",
   "version": "3.9.13"
  }
 },
 "nbformat": 4,
 "nbformat_minor": 1
}

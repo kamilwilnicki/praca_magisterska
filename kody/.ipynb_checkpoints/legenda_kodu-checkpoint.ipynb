{
 "cells": [
  {
   "cell_type": "markdown",
   "metadata": {},
   "source": [
    "# Wstep\n",
    "Jupyter notebooki znajdujace sie w owym folderze zostaly utworzone w celu zbudowania kownolucyjnej sieci neuronowej, której zadaniem będzie poprawna klasyfikacja samochodów. Zmienna celu w badaniu beda marki samochodow.\n",
    "<br>\n",
    "<br>\n",
    "Dany projekt zostal utworzony w celu weryfikacji hipotez zawartych w mojej pracy magisterskiej o tytule \"Wykorzystanie splotowych sieci neuronowych w procesie klasyfikacji marek samochodow\". Owa praca pisana jest na uczelni Szkola Glowna Handlowa w Warszawie (SGH)\n",
    "<br>\n",
    "<br>\n",
    "Wszystkie pythonowe kody, ktore zostaly napisane w celu badania, znajduja sie w plikach:\n",
    "1. kod1.ipynb\n",
    "2. modele.ipynb\n",
    "3. kod2.ipynb\n",
    "4. Inceptionv3.ipynb\n",
    "5. model_wyniki.ipynb"
   ]
  },
  {
   "cell_type": "markdown",
   "metadata": {},
   "source": [
    "# Spis tresci\n",
    "<br>\n",
    "<font size=\"3\">1. Poprawna ekstrakcja danych z plikow oraz ich wstepna analiza (plik kod1)</font>\n",
    "<br>\n",
    "<br>\n",
    "<font size=\"3\">2. Preprocessing (plik kod1)</font>\n",
    "<br>\n",
    "<br>\n",
    "<font size=\"3\">3. Budowa modeli (plik modele)</font>\n",
    "<br>\n",
    "<br>\n",
    "<font size=\"3\">3. przygotowanie danych na transfer learning (plik kod2)</font>\n",
    "<br>\n",
    "<br>\n",
    "<font size=\"3\">4. Transfer learning na InceptionV3 (plik Inceptionv3)</font>\n",
    "<br>\n",
    "<br>\n",
    "<font size=\"3\">5. Wybor modelu (plik model_wyniki)</font>\n",
    "<br>\n",
    "<br>\n",
    "<font size=\"3\">6. Analiza wynikow (plik model_wyniki)</font>"
   ]
  }
 ],
 "metadata": {
  "kernelspec": {
   "display_name": "Python 3",
   "language": "python",
   "name": "python3"
  },
  "language_info": {
   "codemirror_mode": {
    "name": "ipython",
    "version": 3
   },
   "file_extension": ".py",
   "mimetype": "text/x-python",
   "name": "python",
   "nbconvert_exporter": "python",
   "pygments_lexer": "ipython3",
   "version": "3.9.13"
  }
 },
 "nbformat": 4,
 "nbformat_minor": 4
}

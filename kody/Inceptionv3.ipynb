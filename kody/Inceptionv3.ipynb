{
 "cells": [
  {
   "cell_type": "markdown",
   "metadata": {},
   "source": [
    "# 4. Transfer learning na InceptionV3"
   ]
  },
  {
   "cell_type": "code",
   "execution_count": null,
   "metadata": {
    "id": "Fz3lBAdynTi0"
   },
   "outputs": [],
   "source": [
    "#sciagniecie wszystkich istotnych blbiotek\n",
    "from keras.callbacks import EarlyStopping, ReduceLROnPlateau, ModelCheckpoint\n",
    "import statistics\n",
    "import tensorflow as tf\n",
    "from tensorflow.keras.layers import Conv2D, MaxPooling2D, Flatten, Dense, Dropout\n",
    "from tensorflow.keras.applications.inception_v3 import InceptionV3\n",
    "from tensorflow.keras.applications.vgg16 import VGG16"
   ]
  },
  {
   "cell_type": "code",
   "execution_count": null,
   "metadata": {
    "colab": {
     "base_uri": "https://localhost:8080/"
    },
    "id": "vEnMeYKlmwJ5",
    "outputId": "2ab8b190-fcb3-4053-e239-3d9094a4bd3b"
   },
   "outputs": [
    {
     "name": "stdout",
     "output_type": "stream",
     "text": [
      "Mounted at /content/gdrive\n"
     ]
    }
   ],
   "source": [
    "from google.colab import drive\n",
    "drive.mount('/content/gdrive')"
   ]
  },
  {
   "cell_type": "code",
   "execution_count": null,
   "metadata": {
    "id": "8Z5ugw02nO3Z"
   },
   "outputs": [],
   "source": [
    "#sciagniecie danych wykorzystancyh do transfer learningu modleu Incpetionv3\n",
    "import pickle\n",
    "pick_read = open('/content/gdrive/My Drive/X_train_color.pkl','rb')\n",
    "X_train = pickle.load(pick_read)\n",
    "pick_read.close()\n",
    "pick_read = open('gdrive/My Drive/X_val_color.pkl','rb')\n",
    "X_val = pickle.load(pick_read)\n",
    "pick_read.close()\n",
    "pick_read = open('gdrive/My Drive/X_test_color.pkl','rb')\n",
    "X_test = pickle.load(pick_read)\n",
    "pick_read.close()\n",
    "\n",
    "pick_read = open('gdrive/My Drive/y_train_color.pkl','rb')\n",
    "y_train = pickle.load(pick_read)\n",
    "pick_read.close()\n",
    "pick_read = open('gdrive/My Drive/y_val_color.pkl','rb')\n",
    "y_val = pickle.load(pick_read)\n",
    "pick_read.close()\n",
    "pick_read = open('gdrive/My Drive/y_test_color.pkl','rb')\n",
    "y_test = pickle.load(pick_read)\n",
    "pick_read.close()"
   ]
  },
  {
   "cell_type": "code",
   "execution_count": null,
   "metadata": {
    "colab": {
     "base_uri": "https://localhost:8080/"
    },
    "id": "1FZnCGxUnVfG",
    "outputId": "ea15784c-8355-4d12-e480-3ac05fc15023"
   },
   "outputs": [
    {
     "name": "stdout",
     "output_type": "stream",
     "text": [
      "Epoch 1/100\n",
      "348/348 [==============================] - 15s 29ms/step - loss: 5.0727 - accuracy: 0.1251 - val_loss: 2.7483 - val_accuracy: 0.2244\n",
      "Epoch 2/100\n",
      "348/348 [==============================] - 8s 22ms/step - loss: 2.8333 - accuracy: 0.2056 - val_loss: 2.5861 - val_accuracy: 0.2410\n",
      "Epoch 3/100\n",
      "348/348 [==============================] - 8s 22ms/step - loss: 2.6594 - accuracy: 0.2321 - val_loss: 2.4776 - val_accuracy: 0.2689\n",
      "Epoch 4/100\n",
      "348/348 [==============================] - 8s 22ms/step - loss: 2.5059 - accuracy: 0.2664 - val_loss: 2.3904 - val_accuracy: 0.2960\n",
      "Epoch 5/100\n",
      "348/348 [==============================] - 7s 21ms/step - loss: 2.3977 - accuracy: 0.2915 - val_loss: 2.4216 - val_accuracy: 0.3004\n",
      "Epoch 6/100\n",
      "348/348 [==============================] - 8s 22ms/step - loss: 2.2899 - accuracy: 0.3139 - val_loss: 2.4217 - val_accuracy: 0.2954\n",
      "Epoch 7/100\n",
      "348/348 [==============================] - 8s 22ms/step - loss: 2.1853 - accuracy: 0.3387 - val_loss: 2.3181 - val_accuracy: 0.3263\n",
      "Epoch 8/100\n",
      "348/348 [==============================] - 8s 22ms/step - loss: 2.0865 - accuracy: 0.3656 - val_loss: 2.3504 - val_accuracy: 0.3412\n",
      "Epoch 9/100\n",
      "348/348 [==============================] - 8s 22ms/step - loss: 1.9993 - accuracy: 0.3896 - val_loss: 2.3227 - val_accuracy: 0.3412\n",
      "Epoch 10/100\n",
      "348/348 [==============================] - 8s 22ms/step - loss: 1.9477 - accuracy: 0.4005 - val_loss: 2.2737 - val_accuracy: 0.3721\n",
      "Epoch 11/100\n",
      "348/348 [==============================] - 8s 22ms/step - loss: 1.9166 - accuracy: 0.4089 - val_loss: 2.2037 - val_accuracy: 0.3795\n",
      "Epoch 12/100\n",
      "348/348 [==============================] - 8s 22ms/step - loss: 1.8364 - accuracy: 0.4228 - val_loss: 2.2787 - val_accuracy: 0.3646\n",
      "Epoch 13/100\n",
      "348/348 [==============================] - 8s 22ms/step - loss: 1.7657 - accuracy: 0.4490 - val_loss: 2.2179 - val_accuracy: 0.3758\n",
      "Epoch 14/100\n",
      "348/348 [==============================] - 8s 22ms/step - loss: 1.7160 - accuracy: 0.4579 - val_loss: 2.2020 - val_accuracy: 0.3918\n",
      "Epoch 15/100\n",
      "348/348 [==============================] - 8s 22ms/step - loss: 1.6855 - accuracy: 0.4710 - val_loss: 2.2499 - val_accuracy: 0.3807\n",
      "Epoch 16/100\n",
      "348/348 [==============================] - 8s 22ms/step - loss: 1.6357 - accuracy: 0.4796 - val_loss: 2.3055 - val_accuracy: 0.3850\n",
      "Epoch 17/100\n",
      "348/348 [==============================] - 8s 22ms/step - loss: 1.6169 - accuracy: 0.4886 - val_loss: 2.2561 - val_accuracy: 0.3937\n",
      "Epoch 18/100\n",
      "348/348 [==============================] - 8s 22ms/step - loss: 1.5680 - accuracy: 0.4984 - val_loss: 2.4015 - val_accuracy: 0.3943\n",
      "Epoch 19/100\n",
      "348/348 [==============================] - 8s 22ms/step - loss: 1.5088 - accuracy: 0.5169 - val_loss: 2.4260 - val_accuracy: 0.3881\n",
      "Epoch 20/100\n",
      "348/348 [==============================] - 8s 22ms/step - loss: 1.4963 - accuracy: 0.5207 - val_loss: 2.3323 - val_accuracy: 0.4054\n",
      "Epoch 21/100\n",
      "348/348 [==============================] - 8s 22ms/step - loss: 1.4844 - accuracy: 0.5252 - val_loss: 2.4175 - val_accuracy: 0.4017\n",
      "Epoch 22/100\n",
      "348/348 [==============================] - 8s 22ms/step - loss: 1.4376 - accuracy: 0.5362 - val_loss: 2.4604 - val_accuracy: 0.3986\n",
      "Epoch 23/100\n",
      "348/348 [==============================] - 8s 22ms/step - loss: 1.4033 - accuracy: 0.5484 - val_loss: 2.6101 - val_accuracy: 0.3962\n",
      "Epoch 24/100\n",
      "346/348 [============================>.] - ETA: 0s - loss: 1.3840 - accuracy: 0.5550Restoring model weights from the end of the best epoch: 14.\n",
      "348/348 [==============================] - 8s 22ms/step - loss: 1.3846 - accuracy: 0.5548 - val_loss: 2.6833 - val_accuracy: 0.4054\n",
      "Epoch 24: early stopping\n"
     ]
    }
   ],
   "source": [
    "#utworzenie modelu Inceptionv#\n",
    "inception=InceptionV3(input_shape=(200,200,3),include_top=False, weights='imagenet')\n",
    "\n",
    "#utworzenie warstw, ktorych wagi nie beda sie zmieniac w procesie trenowania sie modelu (wykluczajac warstwy \n",
    "#w pelni polaczone)\n",
    "for layer in inception.layers:\n",
    "    layer.trainable=False\n",
    "\n",
    "#utworzenie czesci warstw w pelni polaczonych\n",
    "layers= Flatten()(inception.output)\n",
    "layers=Dense(1024,activation='relu')(layers)\n",
    "layers=Dropout(0.2)(layers)\n",
    "layers=Dense(50,activation='softmax')(layers)\n",
    "inception=tf.keras.Model(inception.input,layers)\n",
    "inception.compile(optimizer='adam',\n",
    "              loss='categorical_crossentropy',\n",
    "              metrics=['accuracy'])\n",
    "\n",
    "#zastosowanie metody early stopping\n",
    "early_stop = EarlyStopping(monitor='val_loss',\n",
    "                           min_delta=0, \n",
    "                           patience=10, \n",
    "                           verbose = 1, \n",
    "                           mode='min', \n",
    "                           restore_best_weights = True)\n",
    "\n",
    "# wyuczenie modelu\n",
    "history=inception.fit(\n",
    "              X_train, \n",
    "              y_train, \n",
    "              batch_size = 50, \n",
    "              epochs = 100, \n",
    "              validation_data=(X_val, y_val), \n",
    "              callbacks=[early_stop])\n",
    "\n",
    "#zapisanie wynikow modelu w formie pickle\n",
    "pick_insert = open('gdrive/My Drive/model_inc.pkl','wb')\n",
    "pickle.dump(inception, pick_insert)\n",
    "pick_insert.close()\n",
    "\n",
    "pick_insert = open('gdrive/My Drive/history_inc.pkl','wb')\n",
    "pickle.dump(history, pick_insert)\n",
    "pick_insert.close()"
   ]
  }
 ],
 "metadata": {
  "accelerator": "GPU",
  "colab": {
   "gpuType": "A100",
   "machine_shape": "hm",
   "provenance": []
  },
  "gpuClass": "standard",
  "kernelspec": {
   "display_name": "Python 3",
   "language": "python",
   "name": "python3"
  },
  "language_info": {
   "codemirror_mode": {
    "name": "ipython",
    "version": 3
   },
   "file_extension": ".py",
   "mimetype": "text/x-python",
   "name": "python",
   "nbconvert_exporter": "python",
   "pygments_lexer": "ipython3",
   "version": "3.9.13"
  }
 },
 "nbformat": 4,
 "nbformat_minor": 1
}
